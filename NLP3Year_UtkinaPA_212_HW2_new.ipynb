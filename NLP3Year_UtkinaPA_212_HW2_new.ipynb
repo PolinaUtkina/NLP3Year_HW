{
 "cells": [
  {
   "cell_type": "markdown",
   "metadata": {},
   "source": [
    "Создание, разметка корпуса и объяснение того, почему этот текст подходит для оценки \n",
    "Для оценки качества теггеров был собран корпус из отрывков стихотворений Игоря Северянина. В этом корпусе:\n",
    "1. Много неологизмов, что может затруднить разметку для теггеров, опирающихся на словари. Также затруднит разметку то, что основа у неологизмов именная, а морфология глагольная: арфеет, осудьбить\n",
    "2. Встречается частеречная омонимия: (я) жажду, настоящее, грядущее\n",
    "3. Встречаются слова с дефисом, как допускающие, так и не допускающие разбиение: крем-брюле, отчего-то, трухло-злых, лилово-изнеженном\n",
    "4. Встречаются сложные слова, у которых вторая часть совпадает со словами или вторыми частями сложных слов: полпорции\n",
    "5. Встречаются слова с «неизвестными» корнями, не содержащие продуктивных аффиксов, для которых носители языка могут однозначно определить часть речи: буше, вирелэ\n",
    "акой тегсет вы берёте для разметки и почему."
   ]
  },
  {
   "cell_type": "markdown",
   "metadata": {},
   "source": [
    "Какой тегсет вы берёте для разметки и почему.\n",
    "Поскольку славистика в целом и русская морфология в частности не входят в область моих интересов, я разметила корпус с точки зрения \"наивного носителя\": noun - существительные, в т.ч. имена собственные; adj - краткие и полные прилагательные, в т.ч. степени сравнения; adv - наречия; v - все формы глаголов, в т.ч. причастия и деепричастия; num - порядковые и количественные числительные; rest - всё остальное."
   ]
  },
  {
   "cell_type": "code",
   "execution_count": 62,
   "metadata": {},
   "outputs": [],
   "source": [
    "with open ('Severyanin.txt', 'r', encoding='utf8') as file:\n",
    "    text = file.read()"
   ]
  },
  {
   "cell_type": "code",
   "execution_count": 63,
   "metadata": {},
   "outputs": [],
   "source": [
    "import xlrd"
   ]
  },
  {
   "cell_type": "code",
   "execution_count": 104,
   "metadata": {},
   "outputs": [],
   "source": [
    "# собираем словарь ручной разметки \"словоформа: POS-тег\"\n",
    "file = xlrd.open_workbook('POS_human.xls')\n",
    "sheet = file.sheet_by_name('POS')\n",
    "human_tags = {}\n",
    "l = sheet.nrows\n",
    "for i in range(l):\n",
    "    human_tags[sheet.cell_value(i, 0).lower()] = sheet.cell_value(i, 1)"
   ]
  },
  {
   "cell_type": "code",
   "execution_count": 146,
   "metadata": {},
   "outputs": [
    {
     "data": {
      "text/plain": [
       "163"
      ]
     },
     "execution_count": 146,
     "metadata": {},
     "output_type": "execute_result"
    }
   ],
   "source": [
    "len(human_tags) # число различных словоформ"
   ]
  },
  {
   "cell_type": "markdown",
   "metadata": {},
   "source": [
    "Не вижу смысла писать сложный конвертер тегов, когда можно обойтись тремя небольшими словарями \"тег ручной разметки: список тегов анализатора\""
   ]
  },
  {
   "cell_type": "markdown",
   "metadata": {},
   "source": [
    "pymystem3 POS tagset\n",
    "A прилагательное\n",
    "ADV наречие\n",
    "ADVPRO местоименное наречие\n",
    "ANUM числительное-прилагательное\n",
    "APRO местоимение-прилагательное\n",
    "COM часть композита - сложного слова\n",
    "CONJ союз\n",
    "INTJ междометие\n",
    "NUM числительное\n",
    "PART частица\n",
    "PR предлог\n",
    "S существительное\n",
    "SPRO местоимение-существительное\n",
    "V глагол"
   ]
  },
  {
   "cell_type": "code",
   "execution_count": 129,
   "metadata": {},
   "outputs": [],
   "source": [
    "mystem_to_human = {'noun':['COM','S'], 'adj':['A'], 'adv':['ADV'], 'v':['V'], 'num':['ANUM','NUM'], 'rest':['ADVPRO','APRO','COM','CONJ', 'INTJ','PART','PR','SPRO']}"
   ]
  },
  {
   "cell_type": "code",
   "execution_count": 3,
   "metadata": {},
   "outputs": [],
   "source": [
    "from pymystem3 import Mystem\n",
    "mystem = Mystem()"
   ]
  },
  {
   "cell_type": "code",
   "execution_count": 134,
   "metadata": {},
   "outputs": [],
   "source": [
    "# лемматизируем текст и собираем словарь разметки \"словоформа: POS-тег\" для pymystem3\n",
    "mystem_lemmas = mystem.analyze(text)\n",
    "mystem_pos = {}\n",
    "for word in mystem_lemmas:\n",
    "    if 'analysis' in word:\n",
    "        gr = word['analysis'][0]['gr']\n",
    "        pos = gr.split('=')[0].split(',')[0]\n",
    "        mystem_pos[word['text'].lower()] = [pos]"
   ]
  },
  {
   "cell_type": "markdown",
   "metadata": {},
   "source": [
    "Pymorphy POS tagset - OpencorporaTag\n",
    "NOUN \tимя существительное \tхомяк\n",
    "ADJF \tимя прилагательное (полное) \tхороший\n",
    "ADJS \tимя прилагательное (краткое) \tхорош\n",
    "COMP \tкомпаратив \tлучше, получше, выше\n",
    "VERB \tглагол (личная форма) \tговорю, говорит, говорил\n",
    "INFN \tглагол (инфинитив) \tговорить, сказать\n",
    "PRTF \tпричастие (полное) \tпрочитавший, прочитанная\n",
    "PRTS \tпричастие (краткое) \tпрочитана\n",
    "GRND \tдеепричастие \tпрочитав, рассказывая\n",
    "NUMR \tчислительное \tтри, пятьдесят\n",
    "ADVB \tнаречие \tкруто\n",
    "NPRO \tместоимение-существительное \tон\n",
    "PRED \tпредикатив \tнекогда\n",
    "PREP \tпредлог \tв\n",
    "CONJ \tсоюз \tи\n",
    "PRCL \tчастица \tбы, же, лишь\n",
    "INTJ \tмеждометие"
   ]
  },
  {
   "cell_type": "code",
   "execution_count": 17,
   "metadata": {},
   "outputs": [],
   "source": [
    "pymorphy_to_human = {'noun':['NOUN'], 'adj':['ADJF', 'ADJS', 'COMP'], 'adv':['ADVB'], 'v':['VERB','INFN','PRTF','PRTS','GRND'], 'num':['NUMR'], 'rest':['NPRO','PRED','PREP','CONJ', 'INTJ','PRCL']}"
   ]
  },
  {
   "cell_type": "code",
   "execution_count": 14,
   "metadata": {},
   "outputs": [],
   "source": [
    "from string import punctuation\n",
    "from pymorphy2 import MorphAnalyzer\n",
    "morph = MorphAnalyzer()"
   ]
  },
  {
   "cell_type": "code",
   "execution_count": 26,
   "metadata": {},
   "outputs": [],
   "source": [
    "# pymorphy2 не умеет работать с целым текстом, приходится разбивать текст на словоформы, убирая переносы строк и пунктуацию\n",
    "lines = text.split('\\n')\n",
    "sents = []\n",
    "for line in lines:\n",
    "    sent = [word.strip(punctuation) for word in line.split()] #remove punctuation\n",
    "    sents.extend(sent)"
   ]
  },
  {
   "cell_type": "code",
   "execution_count": 140,
   "metadata": {},
   "outputs": [],
   "source": [
    "# лемматизируем текст и собираем словарь разметки \"словоформа: POS-тег\" для pymorphy2\n",
    "pymorphy_lemmas = [morph.parse(w) for w in sents]\n",
    "pymorphy_pos = {}\n",
    "for lemma in pymorphy_lemmas:\n",
    "    key = lemma[0].word\n",
    "    value = []\n",
    "    for parse in lemma:\n",
    "        value.append(parse.tag.POS)\n",
    "    pymorphy_pos[key.lower()] = value"
   ]
  },
  {
   "cell_type": "markdown",
   "metadata": {},
   "source": [
    "SpaCY -  Universal POS tags\n",
    "    ADJ: adjective\n",
    "    ADP: adposition\n",
    "    ADV: adverb\n",
    "    AUX: auxiliary\n",
    "    CCONJ: coordinating conjunction\n",
    "    DET: determiner\n",
    "    INTJ: interjection\n",
    "    NOUN: noun\n",
    "    NUM: numeral\n",
    "    PART: particle\n",
    "    PRON: pronoun\n",
    "    PROPN: proper noun\n",
    "    PUNCT: punctuation\n",
    "    SCONJ: subordinating conjunction\n",
    "    SYM: symbol\n",
    "    VERB: verb\n",
    "    X: other"
   ]
  },
  {
   "cell_type": "code",
   "execution_count": 73,
   "metadata": {},
   "outputs": [],
   "source": [
    "spacy_to_human = {'noun':['NOUN','PROPN'], 'adj':['ADJ'], 'adv':['ADV'], 'v':['AUX', 'VERB'], 'num':['NUM'], 'rest':['ADP','CCONJ','DET','PART', 'INTJ','PRON','SCONJ','X']}"
   ]
  },
  {
   "cell_type": "code",
   "execution_count": 49,
   "metadata": {},
   "outputs": [],
   "source": [
    "import spacy\n",
    "nlp = spacy.load(\"ru_core_news_sm\")"
   ]
  },
  {
   "cell_type": "code",
   "execution_count": 107,
   "metadata": {},
   "outputs": [],
   "source": [
    "# лемматизируем текст и собираем словарь разметки \"словоформа: POS-тег\" для spacy\n",
    "doc = nlp(text)\n",
    "spacy_pos = {}\n",
    "for token in doc:\n",
    "    if token.pos_ not in ('PUNCT','SPACE'):\n",
    "        spacy_pos[token.text.lower()] = [token.pos_]"
   ]
  },
  {
   "cell_type": "code",
   "execution_count": 147,
   "metadata": {},
   "outputs": [],
   "source": [
    "# функция для определения качества разметки\n",
    "def accuracy(tag, pos):\n",
    "    true_positive = 0\n",
    "    wrong_split = []\n",
    "    wrong_pos = []\n",
    "    for key in pos:\n",
    "        if key not in human_tags.keys(): # выявляем разбитые по дефису словоформы\n",
    "            wrong_split.append(key)\n",
    "        else:\n",
    "            human_pos = human_tags[key]\n",
    "            if set(pos[key]) & set(tag[human_pos]): # если хотя бы один тег анализатора совпал с тегом ручной разметки, засчитываем попадание\n",
    "                true_positive += 1\n",
    "            else:\n",
    "                wrong_pos.append((key, pos[key])) # если не совпал ни один, сохраняем ошибочную разметку. Посмотрим, где именно теггер ошибся\n",
    "    return(true_positive/163, wrong_split, wrong_pos) # 163 - количество уникальных словоформ в тексте\n"
   ]
  },
  {
   "cell_type": "code",
   "execution_count": 148,
   "metadata": {},
   "outputs": [
    {
     "data": {
      "text/plain": [
       "(0.852760736196319,\n",
       " ['трухло',\n",
       "  '-',\n",
       "  'злых',\n",
       "  'крем',\n",
       "  'брюле',\n",
       "  'лилово',\n",
       "  'изнеженном',\n",
       "  'отчего',\n",
       "  'то'],\n",
       " [('бесстыжей', ['NOUN']),\n",
       "  ('тьмой', ['ADJ']),\n",
       "  ('надо', ['ADV']),\n",
       "  ('можно', ['ADV']),\n",
       "  ('пора', ['NOUN']),\n",
       "  ('изыски', ['ADV']),\n",
       "  ('муаровом', ['NOUN']),\n",
       "  ('олуненной', ['ADJ']),\n",
       "  ('морево', ['NOUN']),\n",
       "  ('лазорева', ['PROPN']),\n",
       "  ('разузорена', ['NOUN']),\n",
       "  ('точно', ['ADV']),\n",
       "  ('лапы', ['ADJ']),\n",
       "  ('утонченной', ['ADJ']),\n",
       "  ('новобрачная', ['ADJ']),\n",
       "  ('тишь', ['VERB']),\n",
       "  ('куда', ['ADV']),\n",
       "  ('былом', ['ADJ']),\n",
       "  ('грядущем', ['ADJ']),\n",
       "  ('настоящем', ['ADJ'])])"
      ]
     },
     "execution_count": 148,
     "metadata": {},
     "output_type": "execute_result"
    }
   ],
   "source": [
    "accuracy(spacy_to_human, spacy_pos)"
   ]
  },
  {
   "cell_type": "markdown",
   "metadata": {},
   "source": [
    "Разбил все слова по дефису. Ошибся в тегах частотных существительных: тьма, изыски, лапы, тишь. Ошибся в тегах прилагательных с очевидными морфологическими признаками: бесстыжий, муаровый. Сделал из краткого прилагательного фамилию: лазорева. Не справился со сложными случаями частеречной омонимии: новобрачная, былое, грядущее, настоящее, точно, пора; жажду определил верно, как глагол. Не отличил прилагательное от страдательного причастия: утонченный, олуненный. \n",
    "Не очень-то spacy понимает в русской поэзии Серебряного века :)"
   ]
  },
  {
   "cell_type": "code",
   "execution_count": 149,
   "metadata": {},
   "outputs": [
    {
     "data": {
      "text/plain": [
       "(0.9079754601226994,\n",
       " ['трухло', 'злых', 'лилово', 'изнеженном'],\n",
       " [('осудьбить', ['S']),\n",
       "  ('надо', ['ADV']),\n",
       "  ('можно', ['ADV']),\n",
       "  ('пора', ['ADV']),\n",
       "  ('зальдись', ['ADV']),\n",
       "  ('морево', ['S']),\n",
       "  ('лазорева', ['S']),\n",
       "  ('утонченной', ['A']),\n",
       "  ('всегда', ['ADVPRO']),\n",
       "  ('арфеет', ['S']),\n",
       "  ('былом', ['A']),\n",
       "  ('настоящем', ['A']),\n",
       "  ('жажду', ['S'])])"
      ]
     },
     "execution_count": 149,
     "metadata": {},
     "output_type": "execute_result"
    }
   ],
   "source": [
    "accuracy(mystem_to_human, mystem_pos)"
   ]
  },
  {
   "cell_type": "markdown",
   "metadata": {},
   "source": [
    "Разбил по дефису словоформы, для которых это вполне оправдано: трузло-злой, лилово-изнеженный. Отчего-то и крем-брюле остались целыми и с правильными тегами. Неправильно определил неологизмы, где именной корень имеет глагольную морфологию: осудьбить, арфеет, зальдись. Также сделал из краткого прилагательного фамилию: лазорева. Не справился с частеречной омонимией: жажду, былое, настоящее; грядущее и новобрачную определил верно.\n",
    "Это победитель соревнования."
   ]
  },
  {
   "cell_type": "code",
   "execution_count": 150,
   "metadata": {},
   "outputs": [
    {
     "data": {
      "text/plain": [
       "(0.901840490797546,\n",
       " ['всё', 'придётся', '—', 'утончённой', 'её', 'поёт'],\n",
       " [('весь', ['ADJF', 'ADJF', 'NOUN', 'NOUN', 'VERB']),\n",
       "  ('твоих', ['ADJF', 'ADJF', 'ADJF']),\n",
       "  ('надо', ['PRED', 'PREP']),\n",
       "  ('можно', ['PRED']),\n",
       "  ('морево',\n",
       "   ['NOUN',\n",
       "    'NOUN',\n",
       "    'NOUN',\n",
       "    'NOUN',\n",
       "    'ADJS',\n",
       "    'ADJF',\n",
       "    'ADJF',\n",
       "    'ADJS',\n",
       "    'NOUN',\n",
       "    'NOUN',\n",
       "    'NOUN',\n",
       "    'NOUN',\n",
       "    'ADJF',\n",
       "    'ADJF']),\n",
       "  ('ваше', ['ADJF', 'ADJF']),\n",
       "  ('ваша', ['ADJF']),\n",
       "  ('новобрачная', ['ADJF']),\n",
       "  ('такая', ['ADJF', 'GRND']),\n",
       "  ('былом', ['ADJF', 'ADJF']),\n",
       "  ('отчего-то', ['ADVB'])])"
      ]
     },
     "execution_count": 150,
     "metadata": {},
     "output_type": "execute_result"
    }
   ],
   "source": [
    "accuracy(pymorphy_to_human, pymorphy_pos)"
   ]
  },
  {
   "cell_type": "markdown",
   "metadata": {},
   "source": [
    "Дописал точки над Ё - это очень неудобно, поскольку такое поведение анализатора сложно предвидеть и учесть. Словоформы по дефису не разбиваются независимо от структуры. Хотя ошибок в тегах у этого анализатора меньше, нужно принять во внимание, что каждой словоформе приписывалось несколько тегов, поэтому у pymorphy была большая фора. И даже с ней он не сумел обойти mystem по accuracy."
   ]
  }
 ],
 "metadata": {
  "kernelspec": {
   "display_name": "Python 3",
   "language": "python",
   "name": "python3"
  },
  "language_info": {
   "codemirror_mode": {
    "name": "ipython",
    "version": 3
   },
   "file_extension": ".py",
   "mimetype": "text/x-python",
   "name": "python",
   "nbconvert_exporter": "python",
   "pygments_lexer": "ipython3",
   "version": "3.10.12"
  },
  "orig_nbformat": 4
 },
 "nbformat": 4,
 "nbformat_minor": 2
}
